{
 "cells": [
  {
   "cell_type": "code",
   "execution_count": 1,
   "metadata": {},
   "outputs": [
    {
     "name": "stdout",
     "output_type": "stream",
     "text": [
      "\n",
      "Collected Information:\n",
      "Name: Purva\n",
      "Student ID: 100904426\n"
     ]
    }
   ],
   "source": [
    "# Script to ask for user's name and student ID, then print the details\n",
    "\n",
    "# Function to get user input and print the details\n",
    "def get_and_print_user_details():\n",
    "    # Ask for user's name\n",
    "    user_name = input(\"Please enter your name: \")\n",
    "    \n",
    "    # Ask for student's ID\n",
    "    student_id = input(\"Please enter your student ID: \")\n",
    "    \n",
    "    # Print the collected details\n",
    "    print(\"\\nCollected Information:\")\n",
    "    print(f\"Hello: {user_name}\")\n",
    "    print(f\"Student ID: {student_id}\")\n",
    "\n",
    "# Main function to execute the script\n",
    "if __name__ == \"__main__\":\n",
    "    get_and_print_user_details()\n"
   ]
  }
 ],
 "metadata": {
  "kernelspec": {
   "display_name": "base",
   "language": "python",
   "name": "python3"
  },
  "language_info": {
   "codemirror_mode": {
    "name": "ipython",
    "version": 3
   },
   "file_extension": ".py",
   "mimetype": "text/x-python",
   "name": "python",
   "nbconvert_exporter": "python",
   "pygments_lexer": "ipython3",
   "version": "3.11.5"
  }
 },
 "nbformat": 4,
 "nbformat_minor": 2
}
